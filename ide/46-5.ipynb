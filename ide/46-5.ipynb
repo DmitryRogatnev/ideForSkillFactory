{
 "cells": [
  {
   "cell_type": "code",
   "execution_count": 15,
   "metadata": {},
   "outputs": [
    {
     "data": {
      "text/plain": [
       "2351.0"
      ]
     },
     "metadata": {},
     "output_type": "display_data"
    },
    {
     "data": {
      "text/plain": [
       "75.83870967741936"
      ]
     },
     "metadata": {},
     "output_type": "display_data"
    },
    {
     "data": {
      "text/plain": [
       "0.23978201634877383"
      ]
     },
     "metadata": {},
     "output_type": "display_data"
    }
   ],
   "source": [
    "import json \n",
    "import requests\n",
    "from pprint import pprint\n",
    "\n",
    "token = 'y0_AQAAAABjzbrxAAhSRgAAAADLeXue6m1bxVOZSMiw5nR6v6aekQcMVz8'\n",
    "headers = {'Authorization': 'OAuth ' + token}\n",
    "params = {'metrics': 'ym:s:users', \n",
    "          'dimensions': 'ym:s:date',  \n",
    "          'date1': '2019-05-01',  \n",
    "          'date2': '2019-05-31',     \n",
    "          'ids': 30177909}\n",
    "response = requests.get('https://api-metrika.yandex.net/stat/v1/data', params=params, headers=headers)\n",
    "#print (response.status_code)\n",
    "response = requests.get('https://api-metrika.yandex.net/stat/v1/data', params=params, headers=headers)\n",
    "#print (response.status_code)\n",
    "metrika_data = response.json()\n",
    "\n",
    "total_users = 0\n",
    "for rec in metrika_data['data']:\n",
    "    total_users += rec['metrics'][0]\n",
    "\n",
    "display(total_users)\n",
    "display(total_users/31)\n",
    "\n",
    "params = {'metrics': 'ym:s:visits', \n",
    "          'dimensions': 'ym:s:startURL, ym:s:month',  \n",
    "          'date1': '2019-04-01',  \n",
    "          'date2': '2019-05-31', \n",
    "          'limit': '100000',    \n",
    "          'ids': 30177909}\n",
    "response = requests.get('https://api-metrika.yandex.net/stat/v1/data', params=params, headers=headers)\n",
    "metrika_data = response.json()\n",
    "\n",
    "april_visits = 0\n",
    "may_visits = 0\n",
    "\n",
    "for rec in metrika_data['data']:\n",
    "    if (str(rec['dimensions'][0]['name']).lower() == 'http://datalytics.ru/all/stanovyas-guru-api-yandeks-metriki/') & (rec['dimensions'][1]['name'] == '4'):\n",
    "        april_visits += rec['metrics'][0]\n",
    "    elif (str(rec['dimensions'][0]['name']).lower() == 'http://datalytics.ru/all/stanovyas-guru-api-yandeks-metriki/') & (rec['dimensions'][1]['name'] == '5'):\n",
    "        may_visits += rec['metrics'][0]\n",
    "\n",
    "display(1-may_visits/april_visits)"
   ]
  }
 ],
 "metadata": {
  "kernelspec": {
   "display_name": "Python 3",
   "language": "python",
   "name": "python3"
  },
  "language_info": {
   "codemirror_mode": {
    "name": "ipython",
    "version": 3
   },
   "file_extension": ".py",
   "mimetype": "text/x-python",
   "name": "python",
   "nbconvert_exporter": "python",
   "pygments_lexer": "ipython3",
   "version": "3.9.10"
  },
  "orig_nbformat": 4
 },
 "nbformat": 4,
 "nbformat_minor": 2
}
