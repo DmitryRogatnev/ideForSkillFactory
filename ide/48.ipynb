{
 "cells": [
  {
   "cell_type": "code",
   "execution_count": 14,
   "metadata": {},
   "outputs": [
    {
     "name": "stdout",
     "output_type": "stream",
     "text": [
      "PostgreSQL connection is closed\n"
     ]
    }
   ],
   "source": [
    "import psycopg2\n",
    "\n",
    "try:\n",
    "    connection = psycopg2.connect(\n",
    "        user=\"postgres\",\n",
    "        password=\"nata\",\n",
    "        host=\"localhost\",\n",
    "        port=\"5432\",\n",
    "        database=\"data sf\",\n",
    "    )\n",
    "    cursor = connection.cursor()\n",
    "    with open(\"data/mobile_2.csv\", 'w') as f:  \n",
    "        cursor.copy_to(f, 'mobile', sep=',')  \n",
    "    connection.commit()   \n",
    "except (Exception, psycopg2.DatabaseError) as error:\n",
    "    print(\"Error while creating PostgreSQL table\", error)\n",
    "finally:\n",
    "    if connection:\n",
    "        cursor.close()\n",
    "        connection.close()\n",
    "        print(\"PostgreSQL connection is closed\")"
   ]
  },
  {
   "cell_type": "code",
   "execution_count": null,
   "metadata": {},
   "outputs": [],
   "source": []
  }
 ],
 "metadata": {
  "kernelspec": {
   "display_name": "Python 3",
   "language": "python",
   "name": "python3"
  },
  "language_info": {
   "codemirror_mode": {
    "name": "ipython",
    "version": 3
   },
   "file_extension": ".py",
   "mimetype": "text/x-python",
   "name": "python",
   "nbconvert_exporter": "python",
   "pygments_lexer": "ipython3",
   "version": "3.9.10"
  },
  "orig_nbformat": 4
 },
 "nbformat": 4,
 "nbformat_minor": 2
}
