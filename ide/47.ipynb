{
 "cells": [
  {
   "cell_type": "code",
   "execution_count": 1,
   "metadata": {},
   "outputs": [
    {
     "name": "stdout",
     "output_type": "stream",
     "text": [
      "200\n"
     ]
    },
    {
     "data": {
      "text/html": [
       "<div>\n",
       "<style scoped>\n",
       "    .dataframe tbody tr th:only-of-type {\n",
       "        vertical-align: middle;\n",
       "    }\n",
       "\n",
       "    .dataframe tbody tr th {\n",
       "        vertical-align: top;\n",
       "    }\n",
       "\n",
       "    .dataframe thead th {\n",
       "        text-align: right;\n",
       "    }\n",
       "</style>\n",
       "<table border=\"1\" class=\"dataframe\">\n",
       "  <thead>\n",
       "    <tr style=\"text-align: right;\">\n",
       "      <th></th>\n",
       "      <th>Source</th>\n",
       "      <th>Visits</th>\n",
       "      <th>RobotPerc</th>\n",
       "    </tr>\n",
       "  </thead>\n",
       "  <tbody>\n",
       "    <tr>\n",
       "      <th>0</th>\n",
       "      <td>Search engine traffic</td>\n",
       "      <td>345.0</td>\n",
       "      <td>19.130435</td>\n",
       "    </tr>\n",
       "    <tr>\n",
       "      <th>1</th>\n",
       "      <td>Direct traffic</td>\n",
       "      <td>113.0</td>\n",
       "      <td>15.044248</td>\n",
       "    </tr>\n",
       "    <tr>\n",
       "      <th>2</th>\n",
       "      <td>Link traffic</td>\n",
       "      <td>16.0</td>\n",
       "      <td>18.750000</td>\n",
       "    </tr>\n",
       "    <tr>\n",
       "      <th>3</th>\n",
       "      <td>Social network traffic</td>\n",
       "      <td>12.0</td>\n",
       "      <td>8.333333</td>\n",
       "    </tr>\n",
       "    <tr>\n",
       "      <th>4</th>\n",
       "      <td>Internal traffic</td>\n",
       "      <td>2.0</td>\n",
       "      <td>0.000000</td>\n",
       "    </tr>\n",
       "  </tbody>\n",
       "</table>\n",
       "</div>"
      ],
      "text/plain": [
       "                   Source  Visits  RobotPerc\n",
       "0   Search engine traffic   345.0  19.130435\n",
       "1          Direct traffic   113.0  15.044248\n",
       "2            Link traffic    16.0  18.750000\n",
       "3  Social network traffic    12.0   8.333333\n",
       "4        Internal traffic     2.0   0.000000"
      ]
     },
     "metadata": {},
     "output_type": "display_data"
    }
   ],
   "source": [
    "import json \n",
    "import requests\n",
    "from pprint import pprint\n",
    "import pandas as pd # Импортируем библиотеку pandas под псевдонимом pd\n",
    "\n",
    "token = 'y0_AQAAAABjzbrxAAhSRgAAAADLeXue6m1bxVOZSMiw5nR6v6aekQcMVz8'\n",
    "headers = {'Authorization': 'OAuth ' + token}\n",
    "params = {'metrics': 'ym:s:visits,ym:s:robotPercentage',\n",
    "          'dimensions': 'ym:s:lastsignTrafficSource',  \n",
    "          'date1': '2020-10-07',  \n",
    "          'date2': '2020-10-09',     \n",
    "          'ids': 30177909,\n",
    "          'accuracy':'full',\n",
    "          'limit':100000}\n",
    "\n",
    "response = requests.get('https://api-metrika.yandex.net/stat/v1/data', params=params, headers=headers)\n",
    "print (response.status_code)\n",
    "metrika_data = response.json()\n",
    "\n",
    "metrika_df = pd.DataFrame(metrika_data['data'])\n",
    "\n",
    "\n",
    "def getMetrikaDataInListOfDicts(metrika_data):\n",
    "    list_of_dicts = []\n",
    "    dimensions_list = metrika_data['query']['dimensions']\n",
    "    metrics_list = metrika_data['query']['metrics']\n",
    "    for data_item in metrika_data['data']:\n",
    "        d = {}\n",
    "        for i,dimension in enumerate(data_item['dimensions']):\n",
    "            d[dimensions_list[i]] = dimension['name']\n",
    "        for i,metric in enumerate(data_item['metrics']):\n",
    "            d[metrics_list[i]] = metric\n",
    "        list_of_dicts.append(d)\n",
    "    return list_of_dicts\n",
    "\n",
    "metrika_list_of_dicts = getMetrikaDataInListOfDicts(metrika_data)\n",
    "\n",
    "\n",
    "metrika_df = pd.DataFrame(metrika_list_of_dicts)\n",
    "metrika_df.columns=['Source','Visits','RobotPerc']\n",
    "#metrika_df['Last non-direct CR%'] = metrika_df['Conversions']/metrika_df['Visits']*100\n",
    "display(metrika_df.head(10))\n",
    "#metrika_df.drop"
   ]
  }
 ],
 "metadata": {
  "kernelspec": {
   "display_name": "Python 3",
   "language": "python",
   "name": "python3"
  },
  "language_info": {
   "codemirror_mode": {
    "name": "ipython",
    "version": 3
   },
   "file_extension": ".py",
   "mimetype": "text/x-python",
   "name": "python",
   "nbconvert_exporter": "python",
   "pygments_lexer": "ipython3",
   "version": "3.9.10"
  },
  "orig_nbformat": 4
 },
 "nbformat": 4,
 "nbformat_minor": 2
}
